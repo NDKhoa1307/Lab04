{
 "cells": [
  {
   "attachments": {},
   "cell_type": "markdown",
   "metadata": {},
   "source": [
    "# **Q1**"
   ]
  },
  {
   "attachments": {},
   "cell_type": "markdown",
   "metadata": {},
   "source": [
    "## **Q1.1**"
   ]
  },
  {
   "cell_type": "code",
   "execution_count": 21,
   "metadata": {},
   "outputs": [
    {
     "name": "stdout",
     "output_type": "stream",
     "text": [
      "Mot cay lam chang nen non\n",
      "Ba cay chum lai nen hon nui cao\n"
     ]
    }
   ],
   "source": [
    "def main():\n",
    "    poem = open(\"poem.txt\")\n",
    "    for line in poem:\n",
    "        print(line.strip())\n",
    "if __name__ == '__main__':\n",
    "    main()"
   ]
  },
  {
   "attachments": {},
   "cell_type": "markdown",
   "metadata": {},
   "source": [
    "## **Q1.2**"
   ]
  },
  {
   "cell_type": "code",
   "execution_count": 6,
   "metadata": {},
   "outputs": [
    {
     "name": "stdout",
     "output_type": "stream",
     "text": [
      "No of lines not starting with 'T' = 2\n"
     ]
    }
   ],
   "source": [
    "def count_lines(story):\n",
    "    count_t = 0\n",
    "    for i in range(len(story) - 1):\n",
    "        if story[i] == \"\\n\":\n",
    "            count_t += (story[i + 1] != 'T')\n",
    "    \n",
    "    return count_t\n",
    "\n",
    "def main():\n",
    "    story = open('story.txt', 'r')\n",
    "    print(\"No of lines not starting with 'T' = {0}\".format(count_lines(story.read())))\n",
    "\n",
    "if __name__ == '__main__':\n",
    "    main()"
   ]
  },
  {
   "attachments": {},
   "cell_type": "markdown",
   "metadata": {},
   "source": [
    "# **Q2**"
   ]
  },
  {
   "attachments": {},
   "cell_type": "markdown",
   "metadata": {},
   "source": [
    "## **Q2.1**"
   ]
  },
  {
   "cell_type": "code",
   "execution_count": 7,
   "metadata": {},
   "outputs": [
    {
     "name": "stdout",
     "output_type": "stream",
     "text": [
      "Total words are 57\n"
     ]
    }
   ],
   "source": [
    "def main():\n",
    "    read_file = open('poem.txt', 'r')\n",
    "    print(f'Total words are {len(read_file.read())}')\n",
    "\n",
    "if __name__ == '__main__':\n",
    "    main()"
   ]
  },
  {
   "attachments": {},
   "cell_type": "markdown",
   "metadata": {},
   "source": [
    "## **Q2.2**"
   ]
  },
  {
   "cell_type": "code",
   "execution_count": 8,
   "metadata": {},
   "outputs": [
    {
     "name": "stdout",
     "output_type": "stream",
     "text": [
      "Mot cay lam nen non Ba cay lai nen hon nui cao "
     ]
    }
   ],
   "source": [
    "def main():\n",
    "    poem = open('poem.txt', 'r').read().split()\n",
    "    for x in poem:\n",
    "        if len(x) < 4:\n",
    "            print(x, end = \" \")\n",
    "\n",
    "if __name__ == '__main__':\n",
    "    main()"
   ]
  },
  {
   "attachments": {},
   "cell_type": "markdown",
   "metadata": {},
   "source": [
    "# **Q3**"
   ]
  },
  {
   "attachments": {},
   "cell_type": "markdown",
   "metadata": {},
   "source": [
    "## **Q3.1**"
   ]
  },
  {
   "cell_type": "code",
   "execution_count": 9,
   "metadata": {},
   "outputs": [
    {
     "name": "stdout",
     "output_type": "stream",
     "text": [
      "5\n"
     ]
    }
   ],
   "source": [
    "def main():\n",
    "    poem = open('story.txt', 'r').read()\n",
    "    count_upper = 0\n",
    "    for i in range(len(poem)):\n",
    "        if ord(poem[i]) >= 65 and ord(poem[i]) <= 90:\n",
    "            count_upper += 1\n",
    "\n",
    "    print(f'{count_upper}')\n",
    "\n",
    "if __name__ == '__main__':\n",
    "    main()"
   ]
  },
  {
   "attachments": {},
   "cell_type": "markdown",
   "metadata": {},
   "source": [
    "## **Q3.2**"
   ]
  },
  {
   "cell_type": "code",
   "execution_count": 10,
   "metadata": {},
   "outputs": [
    {
     "name": "stdout",
     "output_type": "stream",
     "text": [
      "2\n"
     ]
    }
   ],
   "source": [
    "def main():\n",
    "    article = open('article.txt', 'r').read().lower().split()\n",
    "    count = 0\n",
    "    for x in article:\n",
    "        if x == \"this\" or x == \"these\":\n",
    "            count += 1\n",
    "    print(count)\n",
    "\n",
    "if __name__ == '__main__':\n",
    "    main()"
   ]
  },
  {
   "attachments": {},
   "cell_type": "markdown",
   "metadata": {},
   "source": [
    "# **Q4**"
   ]
  },
  {
   "attachments": {},
   "cell_type": "markdown",
   "metadata": {},
   "source": [
    "## **Q4.1**"
   ]
  },
  {
   "cell_type": "code",
   "execution_count": 1,
   "metadata": {},
   "outputs": [
    {
     "name": "stdout",
     "output_type": "stream",
     "text": [
      "[1, 2, 3]\n",
      "[1, 2, 3]\n",
      "[1.0, 'Jessa', 3]\n",
      "[]\n",
      "[]\n"
     ]
    }
   ],
   "source": [
    "def main():\n",
    "    list1 = [1, 2 ,3]\n",
    "    list2 = list1\n",
    "    list3 = [1.0, 'Jessa', 3]\n",
    "    list4, list5 = [], []\n",
    "\n",
    "    print(list1)\n",
    "    print(list2)\n",
    "    print(list3)\n",
    "    print(list4)\n",
    "    print(list5)\n",
    "\n",
    "if __name__ == '__main__':\n",
    "    main()"
   ]
  },
  {
   "attachments": {},
   "cell_type": "markdown",
   "metadata": {},
   "source": [
    "## **Q4.2**"
   ]
  },
  {
   "cell_type": "code",
   "execution_count": 6,
   "metadata": {},
   "outputs": [
    {
     "name": "stdout",
     "output_type": "stream",
     "text": [
      "['My', 'name', 'is', 'Kelly']\n"
     ]
    }
   ],
   "source": [
    "def main():\n",
    "    list1 = [\"M\", \"na\", \"i\", \"Ke\"]\n",
    "    list2 = [\"y\", \"me\", \"s\", \"lly\"]\n",
    "    res = []\n",
    "\n",
    "    for i in range(len(list1)):\n",
    "        res.append(list1[i] + list2[i])\n",
    "\n",
    "    print(res)\n",
    "\n",
    "if __name__ == '__main__':\n",
    "    main()"
   ]
  },
  {
   "attachments": {},
   "cell_type": "markdown",
   "metadata": {},
   "source": [
    "# **Q5**"
   ]
  },
  {
   "attachments": {},
   "cell_type": "markdown",
   "metadata": {},
   "source": [
    "## **Q5.1**"
   ]
  },
  {
   "cell_type": "code",
   "execution_count": 7,
   "metadata": {},
   "outputs": [
    {
     "name": "stdout",
     "output_type": "stream",
     "text": [
      "[1, 4, 9, 16, 25, 36, 49]\n"
     ]
    }
   ],
   "source": [
    "def main():\n",
    "    numbers = [x for x in range(1, 8)]\n",
    "    print([x**2 for x in numbers])\n",
    "\n",
    "if __name__ == '__main__':\n",
    "    main()"
   ]
  },
  {
   "cell_type": "code",
   "execution_count": 9,
   "metadata": {},
   "outputs": [
    {
     "name": "stdout",
     "output_type": "stream",
     "text": [
      "['Hello Dear', 'Hello Sir', 'take  Dear', 'take  Sir']\n"
     ]
    }
   ],
   "source": [
    "def main():\n",
    "    list1 = [\"Hello\", \"take \"]\n",
    "    list2 = [\"Dear\", \"Sir\"]\n",
    "\n",
    "    print([x + \" \" +  y for x in list1 for y in list2])\n",
    "\n",
    "if __name__ == '__main__':\n",
    "    main()"
   ]
  }
 ],
 "metadata": {
  "kernelspec": {
   "display_name": "base",
   "language": "python",
   "name": "python3"
  },
  "language_info": {
   "codemirror_mode": {
    "name": "ipython",
    "version": 3
   },
   "file_extension": ".py",
   "mimetype": "text/x-python",
   "name": "python",
   "nbconvert_exporter": "python",
   "pygments_lexer": "ipython3",
   "version": "3.9.13"
  },
  "orig_nbformat": 4,
  "vscode": {
   "interpreter": {
    "hash": "4b6e4e99d5f25afec77cf090e3604ff157f893410e629ea9645b7223fd35f59a"
   }
  }
 },
 "nbformat": 4,
 "nbformat_minor": 2
}
